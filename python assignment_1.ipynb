{
 "cells": [
  {
   "cell_type": "markdown",
   "metadata": {},
   "source": [
    "    \n",
    "Write a program which will find all such numbers which are divisible by 7 but are not \n",
    "a multiple of 5 ,between 2000 and 3200 ( both included). The numbers obtained should be printed\n",
    "in a comma-separated sequence on a single line"
   ]
  },
  {
   "cell_type": "code",
   "execution_count": 31,
   "metadata": {
    "scrolled": true
   },
   "outputs": [
    {
     "name": "stdout",
     "output_type": "stream",
     "text": [
      "2002, 2009, 2016, 2023, 2037, 2044, 2051, 2058, 2072, 2079, 2086, 2093, 2107, 2114, 2121, 2128, 2142, 2149, 2156, 2163, 2177, 2184, 2191, 2198, 2212, 2219, 2226, 2233, 2247, 2254, 2261, 2268, 2282, 2289, 2296, 2303, 2317, 2324, 2331, 2338, 2352, 2359, 2366, 2373, 2387, 2394, 2401, 2408, 2422, 2429, 2436, 2443, 2457, 2464, 2471, 2478, 2492, 2499, 2506, 2513, 2527, 2534, 2541, 2548, 2562, 2569, 2576, 2583, 2597, 2604, 2611, 2618, 2632, 2639, 2646, 2653, 2667, 2674, 2681, 2688, 2702, 2709, 2716, 2723, 2737, 2744, 2751, 2758, 2772, 2779, 2786, 2793, 2807, 2814, 2821, 2828, 2842, 2849, 2856, 2863, 2877, 2884, 2891, 2898, 2912, 2919, 2926, 2933, 2947, 2954, 2961, 2968, 2982, 2989, 2996, 3003, 3017, 3024, 3031, 3038, 3052, 3059, 3066, 3073, 3087, 3094, 3101, 3108, 3122, 3129, 3136, 3143, 3157, 3164, 3171, 3178, 3192, 3199\n"
     ]
    }
   ],
   "source": [
    "list1=list(range(2000, 3201))\n",
    "list2=[]\n",
    "for number in list1:\n",
    "    lastDigit = int(repr(number)[-1])    \n",
    "    remaining_digits=int(repr(number)[0:3])\n",
    "    double_lastDigit=lastDigit*2    \n",
    "    substracted_digit=remaining_digits-double_lastDigit\n",
    "    if (substracted_digit%7==0 and number%5!=0 ) :\n",
    "        list2.append(number)\n",
    "str1=str(list2)\n",
    "print(str1[1:-1])\n",
    "        \n",
    "\n",
    "        \n",
    "\n",
    "    \n",
    "     \n",
    "\n",
    "    "
   ]
  },
  {
   "cell_type": "markdown",
   "metadata": {},
   "source": [
    " Write a Python program to accept the user's first and last name and then getting them\n",
    "printed in the the reverse order with a space between first name and last name"
   ]
  },
  {
   "cell_type": "code",
   "execution_count": 12,
   "metadata": {},
   "outputs": [
    {
     "name": "stdout",
     "output_type": "stream",
     "text": [
      "enter first name-himansu\n",
      "enter first name-mishra\n",
      "arhsim usnamih\n"
     ]
    }
   ],
   "source": [
    "first_name=input(\"enter first name-\")\n",
    "last_name=input(\"enter first name-\")\n",
    "full_name=\"{} {}\".format(first_name,last_name)\n",
    "reversed_name = \"\".join(reversed(full_name))\n",
    "print(reversed_name)\n",
    "lambda full_name:print(reversed(full_name))\n"
   ]
  },
  {
   "cell_type": "code",
   "execution_count": 13,
   "metadata": {},
   "outputs": [
    {
     "name": "stdout",
     "output_type": "stream",
     "text": [
      "enter first name-himasnhu\n",
      "enter first name-mishra\n"
     ]
    },
    {
     "data": {
      "text/plain": [
       "'arhsim uhnsamih'"
      ]
     },
     "execution_count": 13,
     "metadata": {},
     "output_type": "execute_result"
    }
   ],
   "source": [
    "first_name=input(\"enter first name-\")\n",
    "last_name=input(\"enter first name-\")\n",
    "full_name=\"{} {}\".format(first_name,last_name)\n",
    "full_name[::-1]\n"
   ]
  },
  {
   "cell_type": "markdown",
   "metadata": {},
   "source": [
    "Write a Python program to find the volume of a sphere with diameter 12 cm.\n",
    "Formula: V=4/3 * π * r 3"
   ]
  },
  {
   "cell_type": "code",
   "execution_count": 32,
   "metadata": {},
   "outputs": [
    {
     "name": "stdout",
     "output_type": "stream",
     "text": [
      "enter radius to find sphere diameter12\n",
      "7234.5599999999995\n"
     ]
    }
   ],
   "source": [
    " \n",
    "radius=float(input(\"enter radius to find sphere diameter\"))\n",
    "pi=3.14\n",
    "v=4/3*(pi*(radius**3))\n",
    "print(v)\n",
    "\n"
   ]
  },
  {
   "cell_type": "code",
   "execution_count": null,
   "metadata": {},
   "outputs": [],
   "source": []
  }
 ],
 "metadata": {
  "kernelspec": {
   "display_name": "Python 3",
   "language": "python",
   "name": "python3"
  },
  "language_info": {
   "codemirror_mode": {
    "name": "ipython",
    "version": 3
   },
   "file_extension": ".py",
   "mimetype": "text/x-python",
   "name": "python",
   "nbconvert_exporter": "python",
   "pygments_lexer": "ipython3",
   "version": "3.7.4"
  }
 },
 "nbformat": 4,
 "nbformat_minor": 2
}
